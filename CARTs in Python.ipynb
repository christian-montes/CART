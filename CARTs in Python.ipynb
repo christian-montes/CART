{
 "cells": [
  {
   "cell_type": "markdown",
   "metadata": {},
   "source": [
    "# Lab 02 CARTs"
   ]
  },
  {
   "cell_type": "code",
   "execution_count": 74,
   "metadata": {},
   "outputs": [],
   "source": [
    "import os\n",
    "import pandas as pd"
   ]
  },
  {
   "cell_type": "markdown",
   "metadata": {},
   "source": [
    "Creating the paths to load the data"
   ]
  },
  {
   "cell_type": "code",
   "execution_count": 75,
   "metadata": {},
   "outputs": [],
   "source": [
    "training_path=os.path.join('data','wildfires_train.csv')\n",
    "testing_path=os.path.join('data','wildfires_test.csv')"
   ]
  },
  {
   "cell_type": "markdown",
   "metadata": {},
   "source": [
    "Loading the data sets and joining them with the pd.concat"
   ]
  },
  {
   "cell_type": "code",
   "execution_count": 76,
   "metadata": {},
   "outputs": [],
   "source": [
    "training_dat=pd.read_csv(training_path)\n",
    "testing_dat=pd.read_csv(testing_path)"
   ]
  },
  {
   "cell_type": "code",
   "execution_count": 77,
   "metadata": {},
   "outputs": [],
   "source": [
    "# pd.concat takes a list of data frames\n",
    "wildfires=pd.concat([training_dat, testing_dat])\n",
    "wildfires=wildfires.drop('wlf', axis=1)"
   ]
  },
  {
   "cell_type": "code",
   "execution_count": 78,
   "metadata": {},
   "outputs": [
    {
     "data": {
      "text/html": [
       "<div>\n",
       "<style scoped>\n",
       "    .dataframe tbody tr th:only-of-type {\n",
       "        vertical-align: middle;\n",
       "    }\n",
       "\n",
       "    .dataframe tbody tr th {\n",
       "        vertical-align: top;\n",
       "    }\n",
       "\n",
       "    .dataframe thead th {\n",
       "        text-align: right;\n",
       "    }\n",
       "</style>\n",
       "<table border=\"1\" class=\"dataframe\">\n",
       "  <thead>\n",
       "    <tr style=\"text-align: right;\">\n",
       "      <th></th>\n",
       "      <th>x</th>\n",
       "      <th>y</th>\n",
       "      <th>temp</th>\n",
       "      <th>humidity</th>\n",
       "      <th>windspd</th>\n",
       "      <th>winddir</th>\n",
       "      <th>rain</th>\n",
       "      <th>days</th>\n",
       "      <th>vulnerable</th>\n",
       "      <th>other</th>\n",
       "      <th>ranger</th>\n",
       "      <th>pre1950</th>\n",
       "      <th>heli</th>\n",
       "      <th>resources</th>\n",
       "      <th>traffic</th>\n",
       "      <th>burned</th>\n",
       "    </tr>\n",
       "  </thead>\n",
       "  <tbody>\n",
       "    <tr>\n",
       "      <td>0</td>\n",
       "      <td>7.834467</td>\n",
       "      <td>8.306801</td>\n",
       "      <td>99.506964</td>\n",
       "      <td>65.940704</td>\n",
       "      <td>7.614523</td>\n",
       "      <td>W</td>\n",
       "      <td>0.000037</td>\n",
       "      <td>127</td>\n",
       "      <td>1157.377161</td>\n",
       "      <td>0</td>\n",
       "      <td>0</td>\n",
       "      <td>1</td>\n",
       "      <td>0</td>\n",
       "      <td>117.067076</td>\n",
       "      <td>med</td>\n",
       "      <td>791.620319</td>\n",
       "    </tr>\n",
       "    <tr>\n",
       "      <td>1</td>\n",
       "      <td>2.694922</td>\n",
       "      <td>3.551933</td>\n",
       "      <td>69.887657</td>\n",
       "      <td>31.895045</td>\n",
       "      <td>6.534184</td>\n",
       "      <td>E</td>\n",
       "      <td>0.000040</td>\n",
       "      <td>115</td>\n",
       "      <td>1134.429689</td>\n",
       "      <td>0</td>\n",
       "      <td>1</td>\n",
       "      <td>0</td>\n",
       "      <td>1</td>\n",
       "      <td>127.598019</td>\n",
       "      <td>hi</td>\n",
       "      <td>451.951898</td>\n",
       "    </tr>\n",
       "    <tr>\n",
       "      <td>2</td>\n",
       "      <td>6.498186</td>\n",
       "      <td>4.106111</td>\n",
       "      <td>91.152930</td>\n",
       "      <td>57.606073</td>\n",
       "      <td>11.580965</td>\n",
       "      <td>SE</td>\n",
       "      <td>0.000041</td>\n",
       "      <td>119</td>\n",
       "      <td>1209.603068</td>\n",
       "      <td>0</td>\n",
       "      <td>0</td>\n",
       "      <td>0</td>\n",
       "      <td>1</td>\n",
       "      <td>132.273679</td>\n",
       "      <td>hi</td>\n",
       "      <td>584.451361</td>\n",
       "    </tr>\n",
       "    <tr>\n",
       "      <td>3</td>\n",
       "      <td>8.750841</td>\n",
       "      <td>8.887995</td>\n",
       "      <td>54.360593</td>\n",
       "      <td>46.166720</td>\n",
       "      <td>15.383351</td>\n",
       "      <td>E</td>\n",
       "      <td>0.000040</td>\n",
       "      <td>112</td>\n",
       "      <td>1118.691631</td>\n",
       "      <td>0</td>\n",
       "      <td>0</td>\n",
       "      <td>0</td>\n",
       "      <td>0</td>\n",
       "      <td>116.482609</td>\n",
       "      <td>hi</td>\n",
       "      <td>589.681584</td>\n",
       "    </tr>\n",
       "    <tr>\n",
       "      <td>4</td>\n",
       "      <td>9.200210</td>\n",
       "      <td>9.810147</td>\n",
       "      <td>77.442791</td>\n",
       "      <td>25.490945</td>\n",
       "      <td>7.096639</td>\n",
       "      <td>NW</td>\n",
       "      <td>0.000045</td>\n",
       "      <td>146</td>\n",
       "      <td>1319.237687</td>\n",
       "      <td>0</td>\n",
       "      <td>0</td>\n",
       "      <td>1</td>\n",
       "      <td>0</td>\n",
       "      <td>136.521750</td>\n",
       "      <td>lo</td>\n",
       "      <td>1010.567058</td>\n",
       "    </tr>\n",
       "  </tbody>\n",
       "</table>\n",
       "</div>"
      ],
      "text/plain": [
       "          x         y       temp   humidity    windspd winddir      rain  \\\n",
       "0  7.834467  8.306801  99.506964  65.940704   7.614523       W  0.000037   \n",
       "1  2.694922  3.551933  69.887657  31.895045   6.534184       E  0.000040   \n",
       "2  6.498186  4.106111  91.152930  57.606073  11.580965      SE  0.000041   \n",
       "3  8.750841  8.887995  54.360593  46.166720  15.383351       E  0.000040   \n",
       "4  9.200210  9.810147  77.442791  25.490945   7.096639      NW  0.000045   \n",
       "\n",
       "   days   vulnerable  other  ranger  pre1950  heli   resources traffic  \\\n",
       "0   127  1157.377161      0       0        1     0  117.067076     med   \n",
       "1   115  1134.429689      0       1        0     1  127.598019      hi   \n",
       "2   119  1209.603068      0       0        0     1  132.273679      hi   \n",
       "3   112  1118.691631      0       0        0     0  116.482609      hi   \n",
       "4   146  1319.237687      0       0        1     0  136.521750      lo   \n",
       "\n",
       "        burned  \n",
       "0   791.620319  \n",
       "1   451.951898  \n",
       "2   584.451361  \n",
       "3   589.681584  \n",
       "4  1010.567058  "
      ]
     },
     "execution_count": 78,
     "metadata": {},
     "output_type": "execute_result"
    }
   ],
   "source": [
    "wildfires.head()"
   ]
  },
  {
   "cell_type": "markdown",
   "metadata": {},
   "source": [
    "Looking at the first few rows of the data set, we can see that most of the attributes are numerical and only 'winddir' and 'traffic' are categorical.\n",
    "\n",
    "I will need to transform the attributes appropriately by building a pipeline using Column Transformer."
   ]
  },
  {
   "cell_type": "code",
   "execution_count": 79,
   "metadata": {},
   "outputs": [
    {
     "data": {
      "text/plain": [
       "(500, 16)"
      ]
     },
     "execution_count": 79,
     "metadata": {},
     "output_type": "execute_result"
    }
   ],
   "source": [
    "wildfires.shape"
   ]
  },
  {
   "cell_type": "markdown",
   "metadata": {},
   "source": [
    "The data set only has 500 observations but 17 attributes."
   ]
  },
  {
   "cell_type": "code",
   "execution_count": 80,
   "metadata": {},
   "outputs": [
    {
     "data": {
      "text/plain": [
       "x             0\n",
       "y             0\n",
       "temp          0\n",
       "humidity      0\n",
       "windspd       0\n",
       "winddir       0\n",
       "rain          0\n",
       "days          0\n",
       "vulnerable    0\n",
       "other         0\n",
       "ranger        0\n",
       "pre1950       0\n",
       "heli          0\n",
       "resources     0\n",
       "traffic       0\n",
       "burned        0\n",
       "dtype: int64"
      ]
     },
     "execution_count": 80,
     "metadata": {},
     "output_type": "execute_result"
    }
   ],
   "source": [
    "# checking for missingness in the data\n",
    "wildfires.isna().aggregate('sum')"
   ]
  },
  {
   "cell_type": "markdown",
   "metadata": {},
   "source": [
    "Here we can see that the data is in a tidy format. Since there is no missingness in the data, we can apply transformers to the data to fit models onto it. But first, the data must be split into training and testing data.\n",
    "\n",
    "#### Transforming data using Sci-Kit Learn"
   ]
  },
  {
   "cell_type": "code",
   "execution_count": 81,
   "metadata": {},
   "outputs": [],
   "source": [
    "from sklearn.model_selection import train_test_split"
   ]
  },
  {
   "cell_type": "code",
   "execution_count": 82,
   "metadata": {},
   "outputs": [],
   "source": [
    "# first argument is the data set, then the test_size, then the random_state\n",
    "wildfires_train, wildfires_test=train_test_split(wildfires, test_size=0.2, random_state=21)"
   ]
  },
  {
   "cell_type": "markdown",
   "metadata": {},
   "source": [
    "Now we will use the Sci-Kit Learn simple imputer to account for any missingness in future data."
   ]
  },
  {
   "cell_type": "code",
   "execution_count": 83,
   "metadata": {},
   "outputs": [],
   "source": [
    "from sklearn.preprocessing import StandardScaler\n",
    "from sklearn.pipeline import Pipeline\n",
    "from sklearn.impute import SimpleImputer"
   ]
  },
  {
   "cell_type": "code",
   "execution_count": 84,
   "metadata": {},
   "outputs": [],
   "source": [
    "numerical_pipeline=Pipeline([\n",
    "    ('imputer', SimpleImputer(strategy='median')),\n",
    "    ('standard_scaler', StandardScaler())\n",
    "])"
   ]
  },
  {
   "cell_type": "markdown",
   "metadata": {},
   "source": [
    "I need to specify the columns that will go into each pipeline"
   ]
  },
  {
   "cell_type": "code",
   "execution_count": 85,
   "metadata": {},
   "outputs": [],
   "source": [
    "wildfires_num=wildfires.drop(['winddir', 'traffic'], axis='columns')\n",
    "num_attribs=list(wildfires_num)"
   ]
  },
  {
   "cell_type": "markdown",
   "metadata": {},
   "source": [
    "Categorical attributes will be for One Hot Encoding; will create the Categorical pipeline as well."
   ]
  },
  {
   "cell_type": "code",
   "execution_count": 86,
   "metadata": {},
   "outputs": [],
   "source": [
    "from sklearn.preprocessing import OneHotEncoder"
   ]
  },
  {
   "cell_type": "code",
   "execution_count": 87,
   "metadata": {},
   "outputs": [],
   "source": [
    "one_hot_encoder=OneHotEncoder()"
   ]
  },
  {
   "cell_type": "code",
   "execution_count": 88,
   "metadata": {},
   "outputs": [],
   "source": [
    "cat_attribs=['winddir', 'traffic']"
   ]
  },
  {
   "cell_type": "code",
   "execution_count": 89,
   "metadata": {},
   "outputs": [],
   "source": [
    "from sklearn.compose import ColumnTransformer\n",
    "\n",
    "full_pipeline=ColumnTransformer([\n",
    "    ('num', numerical_pipeline, num_attribs),\n",
    "    ('categorical', one_hot_encoder, cat_attribs)\n",
    "])"
   ]
  },
  {
   "cell_type": "markdown",
   "metadata": {},
   "source": [
    "Creating the clean data that excludes the label/target."
   ]
  },
  {
   "cell_type": "code",
   "execution_count": 90,
   "metadata": {},
   "outputs": [],
   "source": [
    "wildfires=wildfires_train.drop('burned', axis=1)\n",
    "wildfires_labels=wildfires_train['burned'].copy()"
   ]
  },
  {
   "cell_type": "code",
   "execution_count": 91,
   "metadata": {},
   "outputs": [
    {
     "data": {
      "text/plain": [
       "56      335.889600\n",
       "57     1172.924723\n",
       "176     516.859659\n",
       "300     563.943221\n",
       "124     871.281377\n",
       "          ...     \n",
       "48      887.634781\n",
       "260     424.163153\n",
       "312     549.893486\n",
       "207     851.064431\n",
       "107     677.784273\n",
       "Name: burned, Length: 400, dtype: float64"
      ]
     },
     "execution_count": 91,
     "metadata": {},
     "output_type": "execute_result"
    }
   ],
   "source": [
    "wildfires_labels"
   ]
  },
  {
   "cell_type": "code",
   "execution_count": 92,
   "metadata": {},
   "outputs": [],
   "source": [
    "wildfires_prepared=full_pipeline.fit_transform(wildfires_train)"
   ]
  },
  {
   "cell_type": "markdown",
   "metadata": {},
   "source": [
    "Now that I have the data prepared, I will use a Bagging Classifier in to predict number of hectares burned by the fire."
   ]
  },
  {
   "cell_type": "code",
   "execution_count": 93,
   "metadata": {},
   "outputs": [],
   "source": [
    "from sklearn.ensemble import RandomForestClassifier\n",
    "from sklearn.ensemble import BaggingClassifier"
   ]
  },
  {
   "cell_type": "code",
   "execution_count": null,
   "metadata": {},
   "outputs": [],
   "source": []
  }
 ],
 "metadata": {
  "kernelspec": {
   "display_name": "Python 3",
   "language": "python",
   "name": "python3"
  },
  "language_info": {
   "codemirror_mode": {
    "name": "ipython",
    "version": 3
   },
   "file_extension": ".py",
   "mimetype": "text/x-python",
   "name": "python",
   "nbconvert_exporter": "python",
   "pygments_lexer": "ipython3",
   "version": "3.7.4"
  }
 },
 "nbformat": 4,
 "nbformat_minor": 2
}
